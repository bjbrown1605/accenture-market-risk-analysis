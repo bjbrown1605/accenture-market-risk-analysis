{
 "cells": [
  {
   "cell_type": "markdown",
   "id": "f198cf99",
   "metadata": {},
   "source": [
    "# Pipeline de Análise de Risco de Mercado"
   ]
  },
  {
   "cell_type": "markdown",
   "id": "183acedf",
   "metadata": {},
   "source": [
    "## 1. Importações e Coleta de Dados"
   ]
  },
  {
   "cell_type": "code",
   "execution_count": 16,
   "id": "a1b2c3d4",
   "metadata": {},
   "outputs": [],
   "source": [
    "import yfinance as yf\n",
    "import pandas as pd"
   ]
  },
  {
   "cell_type": "code",
   "execution_count": 17,
   "id": "e5f6g7h8",
   "metadata": {},
   "outputs": [
    {
     "name": "stderr",
     "output_type": "stream",
     "text": [
      "/tmp/ipykernel_248950/422196918.py:7: FutureWarning:\n",
      "\n",
      "YF.download() has changed argument auto_adjust default to True\n",
      "\n",
      "[*********************100%***********************]  2 of 2 completed"
     ]
    },
    {
     "name": "stdout",
     "output_type": "stream",
     "text": [
      "Amostra dos preços dos ativos:\n"
     ]
    },
    {
     "name": "stderr",
     "output_type": "stream",
     "text": [
      "\n"
     ]
    },
    {
     "data": {
      "text/html": [
       "<div>\n",
       "<style scoped>\n",
       "    .dataframe tbody tr th:only-of-type {\n",
       "        vertical-align: middle;\n",
       "    }\n",
       "\n",
       "    .dataframe tbody tr th {\n",
       "        vertical-align: top;\n",
       "    }\n",
       "\n",
       "    .dataframe thead th {\n",
       "        text-align: right;\n",
       "    }\n",
       "</style>\n",
       "<table border=\"1\" class=\"dataframe\">\n",
       "  <thead>\n",
       "    <tr style=\"text-align: right;\">\n",
       "      <th>Ticker</th>\n",
       "      <th>PETR4.SA</th>\n",
       "      <th>^BVSP</th>\n",
       "    </tr>\n",
       "    <tr>\n",
       "      <th>Date</th>\n",
       "      <th></th>\n",
       "      <th></th>\n",
       "    </tr>\n",
       "  </thead>\n",
       "  <tbody>\n",
       "    <tr>\n",
       "      <th>2025-02-03</th>\n",
       "      <td>35.524509</td>\n",
       "      <td>125970.0</td>\n",
       "    </tr>\n",
       "    <tr>\n",
       "      <th>2025-02-04</th>\n",
       "      <td>35.174004</td>\n",
       "      <td>125147.0</td>\n",
       "    </tr>\n",
       "    <tr>\n",
       "      <th>2025-02-05</th>\n",
       "      <td>34.918228</td>\n",
       "      <td>125534.0</td>\n",
       "    </tr>\n",
       "    <tr>\n",
       "      <th>2025-02-06</th>\n",
       "      <td>34.851913</td>\n",
       "      <td>126225.0</td>\n",
       "    </tr>\n",
       "    <tr>\n",
       "      <th>2025-02-07</th>\n",
       "      <td>34.652977</td>\n",
       "      <td>124619.0</td>\n",
       "    </tr>\n",
       "  </tbody>\n",
       "</table>\n",
       "</div>"
      ],
      "text/plain": [
       "Ticker       PETR4.SA     ^BVSP\n",
       "Date                           \n",
       "2025-02-03  35.524509  125970.0\n",
       "2025-02-04  35.174004  125147.0\n",
       "2025-02-05  34.918228  125534.0\n",
       "2025-02-06  34.851913  126225.0\n",
       "2025-02-07  34.652977  124619.0"
      ]
     },
     "execution_count": 17,
     "metadata": {},
     "output_type": "execute_result"
    }
   ],
   "source": [
    "# Definindo os tickers e o período\n",
    "tickers = ['PETR4.SA', '^BVSP']\n",
    "end_date = pd.Timestamp.now()\n",
    "start_date = end_date - pd.DateOffset(months=6)\n",
    "\n",
    "# Baixando os dados de fechamento, que já são ajustados por padrão\n",
    "precos = yf.download(tickers, start=start_date, end=end_date)['Close']\n",
    "precos = precos.dropna() # Garante que não há dias sem negociação para ambos os ativos\n",
    "\n",
    "print(\"Amostra dos preços dos ativos:\")\n",
    "precos.head()"
   ]
  },
  {
   "cell_type": "markdown",
   "id": "7980184d",
   "metadata": {},
   "source": [
    "## 2. Cálculo dos Indicadores de Risco\n",
    "\n",
    "*(Esta seção será desenvolvida no próximo commit)*"
   ]
  },
  {
   "cell_type": "markdown",
   "metadata": {},
   "source": [
    "## 3. Apresentação e Visualização dos Resultados\n",
    "\n",
    "*(Esta seção será desenvolvida no próximo commit)*"
   ]
  }
 ],
 "metadata": {
  "kernelspec": {
   "display_name": ".venv",
   "language": "python",
   "name": "python3"
  },
  "language_info": {
   "codemirror_mode": {
    "name": "ipython",
    "version": 3
   },
   "file_extension": ".py",
   "mimetype": "text/x-python",
   "name": "python",
   "nbconvert_exporter": "python",
   "pygments_lexer": "ipython3",
   "version": "3.10.12"
  }
 },
 "nbformat": 4,
 "nbformat_minor": 5
}
